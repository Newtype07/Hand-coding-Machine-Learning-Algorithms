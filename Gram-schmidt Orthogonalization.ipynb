{
 "cells": [
  {
   "cell_type": "code",
   "execution_count": 1,
   "metadata": {},
   "outputs": [],
   "source": [
    "import numpy as np"
   ]
  },
  {
   "cell_type": "code",
   "execution_count": 2,
   "metadata": {},
   "outputs": [
    {
     "name": "stdout",
     "output_type": "stream",
     "text": [
      "[[ 0.70710678  0.40824829 -0.57735027]\n",
      " [ 0.          0.81649658  0.57735027]\n",
      " [ 0.70710678 -0.40824829  0.57735027]]\n",
      "[[ 0.18257419  0.89442719 -0.40824829]\n",
      " [-0.36514837  0.4472136   0.81649658]\n",
      " [ 0.91287093  0.          0.40824829]]\n"
     ]
    }
   ],
   "source": [
    "# Find orthonormal basis using Gram-Schmidt \n",
    "def gram_schmidt(A):\n",
    "    A_1 = A.astype(np.float64)\n",
    "    orthonormal_basis = np.zeros_like(A_1)\n",
    "    count = 0\n",
    "    for a in A_1.T:\n",
    "         u = np.copy(a)\n",
    "         for i in range(0, count):\n",
    "            u -= np.dot(np.dot(orthonormal_basis[:, i].T, a), orthonormal_basis[:, i]) # subtract u's projection on i from u\n",
    "         e = u / np.linalg.norm(u)  # normalization\n",
    "         orthonormal_basis[:, count] = e\n",
    "         count += 1\n",
    "    return orthonormal_basis\n",
    "\n",
    "F = np.array([[1,2,1],[0,3,1],[1,-1,2]]) # all columns in F are linear independent, F can be put into Gram-Schmidt algorithm\n",
    "G = np.array([[1,3,3],[-2,2,10],[5,-1,17]]) # all columns in G are linear independent, G can be put into Gram-Schmidt algorithm\n",
    "print(gram_schmidt(F))\n",
    "print(gram_schmidt(G))"
   ]
  },
  {
   "cell_type": "code",
   "execution_count": 3,
   "metadata": {},
   "outputs": [
    {
     "name": "stdout",
     "output_type": "stream",
     "text": [
      "\n",
      "CHECKING TRUE TEST (SHOULD RETURN TRUE):\n",
      "True\n",
      "\n",
      "CHECKING FALSE TEST (SHOULD RETURN FALSE):\n",
      "False\n"
     ]
    }
   ],
   "source": [
    "def orthogonality_checker(A): # check the result of Gram-Schmidt\n",
    "    A_1 = A.astype(np.float64)\n",
    "    n = np.size(A_1,1)\n",
    "    for i in range(0,n):\n",
    "        if abs(1-np.linalg.norm(A_1[:,i])) > 1e-6:\n",
    "            return False\n",
    "        else:\n",
    "            for j in range(i+1,n):\n",
    "                if np.dot(A[:,i].T,A[:,j]) < 1e-6:\n",
    "                    pass\n",
    "                else:\n",
    "                    return False\n",
    "    return True\n",
    "\n",
    "true_test = np.eye(3,3)\n",
    "false_test = np.ones((3,3))\n",
    "print('\\nCHECKING TRUE TEST (SHOULD RETURN TRUE):')\n",
    "print(orthogonality_checker(true_test))\n",
    "print('\\nCHECKING FALSE TEST (SHOULD RETURN FALSE):')\n",
    "print(orthogonality_checker(false_test))"
   ]
  }
 ],
 "metadata": {
  "interpreter": {
   "hash": "4bbc65636462689573147068504ac7fe3db4d163d1636315a1eea52a6d758b0c"
  },
  "kernelspec": {
   "display_name": "Python 3.8.12 64-bit ('base': conda)",
   "language": "python",
   "name": "python3"
  },
  "language_info": {
   "codemirror_mode": {
    "name": "ipython",
    "version": 3
   },
   "file_extension": ".py",
   "mimetype": "text/x-python",
   "name": "python",
   "nbconvert_exporter": "python",
   "pygments_lexer": "ipython3",
   "version": "3.8.12"
  },
  "orig_nbformat": 4
 },
 "nbformat": 4,
 "nbformat_minor": 2
}
